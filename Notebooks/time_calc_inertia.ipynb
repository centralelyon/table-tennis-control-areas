{
 "cells": [
  {
   "cell_type": "code",
   "execution_count": null,
   "metadata": {},
   "outputs": [],
   "source": [
    "import numpy as np\n",
    "import matplotlib.pyplot as plt\n",
    "import os\n",
    "import json\n",
    "import csv\n",
    "import cv2\n",
    "import imageio.v2 as iio\n",
    "import statistics\n",
    "from math import sqrt, cos, sin, pi\n",
    "\n",
    "import sys\n",
    "\n",
    "racine = os.path.abspath(os.path.join(os.getcwd(), \"..\"))\n",
    "sys.path.append(racine)\n",
    "\n",
    "from config import chemin_tt_espace\n",
    "\n",
    "from PIL import Image, ImageDraw, ImageFont\n",
    "from moviepy.editor import VideoFileClip, CompositeVideoClip, clips_array, ColorClip\n",
    "\n",
    "from Scripts.generation_grille_table import quadrillage_sur_image\n",
    "from Scripts.fonctions_positions import coordonnees, ajout_vecteurs_trajectoires, atteintes_lateralite, nuage_frappes, banane_alexis, banane_alexis_cd_r, angles_avant_bras, bdl\n",
    "from Scripts.fonctions_inertie import heatmap\n",
    "from Scripts.fonctions_time import time_to_point, frappe\n",
    "from Scripts.creation_gifs import gif_evol_surf_jA, gif_evol_vit_jA, gif_evol_surf_vit_jA, gif_evol_angle_jA, gif_point"
   ]
  },
  {
   "cell_type": "code",
   "execution_count": null,
   "metadata": {},
   "outputs": [],
   "source": [
    "match=\"FAN-ZHENDONG_vs_TRULS-MOREGARD\"\n",
    "match='ALEXIS-LEBRUN_vs_MA-LONG'\n",
    "point=\"set_1_point_0\"\n",
    "\n",
    "# les dossiers heatmap et evolutions_temporelles ont vocation à stocker des images de façon transitoire. le but est de pour avoir accès aux images qui composent un gif/une vidéo mais on en n'a pas forcément besoin dans le temps donc lorsqu'on a fini d'étudier un point et qu'on passe au suivant, les nouvelles images s'écrivent par dessus.\n",
    "\n",
    "\n",
    "os.makedirs(os.path.join(chemin_tt_espace,\"example\",match,point,\"output\",\"heatmap\"), exist_ok='True')\n",
    "os.makedirs(os.path.join(chemin_tt_espace,\"example\",match,point,\"output\",\"evolutions_temporelles\"), exist_ok='True')\n",
    "os.makedirs(os.path.join(chemin_tt_espace,\"example\",match,point,\"output\",\"evolutions_temporelles\",\"angle\"), exist_ok='True')\n",
    "os.makedirs(os.path.join(chemin_tt_espace,\"example\",match,point,\"output\",\"evolutions_temporelles\",\"combinaison\"), exist_ok='True')\n",
    "os.makedirs(os.path.join(chemin_tt_espace,\"example\",match,point,\"output\",\"evolutions_temporelles\",\"surface_inertie\"), exist_ok='True')\n",
    "os.makedirs(os.path.join(chemin_tt_espace,\"example\",match,point,\"output\",\"evolutions_temporelles\",\"vitesse\"), exist_ok='True')\n",
    "\n",
    "pos_init_b, vitesse_b, pos_init_jA, vitesse_jA, pos_init_jB, vitesse_jB = coordonnees(match, point, lissage='oui')\n",
    "\n",
    "nb_pts=len(pos_init_b) # pour tracer les courbes d'évolution au cours du temps\n",
    "time_points = np.array([f*1/25 for f in range(len(pos_init_b))]) # on a la valeur de la surface atteignable en moins de tlim pour chaque frame et 1 frame dure 1/25s d'où cette discrétisation du temps\n",
    "xmax=(len(time_points)-1)/25\n",
    "\n",
    "\n",
    "with open(os.path.join(chemin_tt_espace,\"example\",match,point,point+\"_annotation.csv\"), newline='') as fichier :\n",
    "    set_point_annotation=[]\n",
    "    reader=csv.reader(fichier)\n",
    "    for ligne in reader :\n",
    "        set_point_annotation.append(ligne)\n",
    "\n",
    "time_frappe=[] # joueur qui frappe, frame de frappe, coordonnées de la balle fichier annotation\n",
    "for i in range(1, len(set_point_annotation)):\n",
    "    if set_point_annotation[i][8]=='' :\n",
    "        time_frappe.append([set_point_annotation[i][0], int(set_point_annotation[i][21]), (float(set_point_annotation[i][18]), -float(set_point_annotation[i][19]))])\n",
    "    elif set_point_annotation[i][8]!='' :\n",
    "        frappe_service=[set_point_annotation[i][0], int(set_point_annotation[i][21]), (float(set_point_annotation[i][18]), -float(set_point_annotation[i][19]))]\n",
    "\n",
    "with open(os.path.join(chemin_tt_espace,\"example\",match,match+\"_game.json\"),  newline='') as fichier_game:\n",
    "    data=json.load(fichier_game)\n",
    "    game=[[cle,val] for cle,val in data.items()]\n",
    "joueurA=game[0][1]\n",
    "joueurB=game[1][1]\n",
    "lateralite_jA=game[2][1]\n",
    "lateralite_jB=game[3][1]\n",
    "\n",
    "h, W = 800, 400"
   ]
  },
  {
   "cell_type": "code",
   "execution_count": 5,
   "metadata": {},
   "outputs": [],
   "source": [
    "\n",
    "point = \"set_1_point_0\"\n",
    "match='ALEXIS-LEBRUN_vs_MA-LONG'\n",
    "#gif_point(match, point, avec_heatmap='oui', avec_banane='non',num_vitesse=1)\n",
    "match=\"FAN-ZHENDONG_vs_TRULS-MOREGARD\"\n",
    "gif_point(match, point, avec_heatmap='oui', avec_banane='non',num_vitesse=1)"
   ]
  }
 ],
 "metadata": {
  "kernelspec": {
   "display_name": "Python 3",
   "language": "python",
   "name": "python3"
  },
  "language_info": {
   "codemirror_mode": {
    "name": "ipython",
    "version": 3
   },
   "file_extension": ".py",
   "mimetype": "text/x-python",
   "name": "python",
   "nbconvert_exporter": "python",
   "pygments_lexer": "ipython3",
   "version": "3.12.0"
  }
 },
 "nbformat": 4,
 "nbformat_minor": 2
}
