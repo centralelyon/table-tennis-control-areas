{
 "cells": [
  {
   "cell_type": "markdown",
   "metadata": {},
   "source": [
    "Création d'une nouvelle image de demie table et environnement"
   ]
  },
  {
   "cell_type": "code",
   "execution_count": 1,
   "metadata": {},
   "outputs": [],
   "source": [
    "import numpy as np\n",
    "import cv2\n",
    "import os"
   ]
  },
  {
   "cell_type": "code",
   "execution_count": 2,
   "metadata": {},
   "outputs": [],
   "source": [
    "#demi terrain : 8m x 4m ; demi-table : 1,525m x 1,37m. on prend: 1px=1cm\n",
    "\n",
    "width=800\n",
    "height=400\n",
    "\n",
    "image=np.ones((height, width,3), np.uint8)*255\n",
    "cv2.line(image, (324,0), (324,137), (0,0,0), 2)\n",
    "cv2.line(image,(476,0), (476,137),(0,0,0),2)\n",
    "cv2.line(image,(324,137),(476,137),(0,0,0),2)\n",
    "cv2.imwrite('image_blanche.png', image)\n",
    "\n",
    "font = cv2.FONT_HERSHEY_SIMPLEX\n",
    "fontScale = 0.4\n",
    "fontColor = (200, 200, 200)\n",
    "\n",
    "i=-8\n",
    "while i<8:\n",
    "    x=int(width/2 + (25.4+i*50.8))\n",
    "    cv2.line(image, (x, 0), (x, height), (200,200,200), 1)\n",
    "    i+=1\n",
    "\n",
    "for i in range(9):\n",
    "    y=int(i*45.7)\n",
    "    cv2.line(image, (0,y),(width,y), (200,200,200),1)\n",
    "\n",
    "for i in range(1,9):\n",
    "    x=int(width/2 + (25.4+(-1)*50.8))\n",
    "    position = (x+13, int(i*45.7)-15)\n",
    "    cv2.putText(image, \"M{}\".format(i), position, font, fontScale, fontColor)\n",
    "for i in range(1,9):\n",
    "    x=int(width/2 + (25.4+0*50.8))\n",
    "    position = (x+13, int(i*45.7)-15)\n",
    "    cv2.putText(image, \"D{}\".format(i), position, font, fontScale, fontColor)\n",
    "for i in range(1,9):\n",
    "    x=int(width/2 + (25.4+1*50.8))\n",
    "    position = (x+13, int(i*45.7)-15)\n",
    "    cv2.putText(image, \"E{}\".format(i), position, font, fontScale, fontColor)\n",
    "for i in range(1,9):\n",
    "    x=int(width/2 + (25.4+2*50.8))\n",
    "    position = (x+13, int(i*45.7)-15)\n",
    "    cv2.putText(image, \"F{}\".format(i), position, font, fontScale, fontColor)\n",
    "for i in range(1,9):\n",
    "    x=int(width/2 + (25.4+(-2)*50.8))\n",
    "    position = (x+13, int(i*45.7)-15)\n",
    "    cv2.putText(image, \"G{}\".format(i), position, font, fontScale, fontColor)\n",
    "for i in range(1,9):\n",
    "    x=int(width/2 + (25.4+(-3)*50.8))\n",
    "    position = (x+13, int(i*45.7)-15)\n",
    "    cv2.putText(image, \"H{}\".format(i), position, font, fontScale, fontColor)\n",
    "for i in range(1,9):\n",
    "    x=int(width/2 + (25.4+(-4)*50.8))\n",
    "    position = (x+13, int(i*45.7)-15)\n",
    "    cv2.putText(image, \"I{}\".format(i), position, font, fontScale, fontColor)\n",
    "\n",
    "cv2.imwrite('environnement_demie_table.png', image)\n",
    "\n",
    "os.remove('image_blanche.png')"
   ]
  }
 ],
 "metadata": {
  "kernelspec": {
   "display_name": "Python 3",
   "language": "python",
   "name": "python3"
  },
  "language_info": {
   "codemirror_mode": {
    "name": "ipython",
    "version": 3
   },
   "file_extension": ".py",
   "mimetype": "text/x-python",
   "name": "python",
   "nbconvert_exporter": "python",
   "pygments_lexer": "ipython3",
   "version": "3.7.2"
  }
 },
 "nbformat": 4,
 "nbformat_minor": 2
}
